{
 "cells": [
  {
   "cell_type": "code",
   "execution_count": 1,
   "id": "6936062e",
   "metadata": {},
   "outputs": [],
   "source": [
    "import numpy as np"
   ]
  },
  {
   "cell_type": "code",
   "execution_count": 2,
   "id": "59f1091d",
   "metadata": {},
   "outputs": [],
   "source": [
    "#Delivery fee is calculated using a different method for each branch. The fee depends linearly (but in different ways for each branch) on:\n",
    "#a. weekend or weekday (1 or 0) - as a continuous variable\n",
    "#b. time of the day (morning 0, afternoon 1, evening 2) - as a continuous variable\n",
    "#c. distance between branch and customer*\n",
    "#If a customer has loyalty, they get a 50% discount on the delivery fee"
   ]
  },
  {
   "cell_type": "code",
   "execution_count": 16,
   "id": "01c6bad9",
   "metadata": {},
   "outputs": [
    {
     "name": "stdout",
     "output_type": "stream",
     "text": [
      "[[1.    1.    7.906]\n",
      " [0.    0.    7.169]\n",
      " [0.    2.    8.545]]\n",
      "[13.2158734 12.6752781 15.1975901]\n",
      "[-0.80719602  0.04472535  1.76806781]\n"
     ]
    }
   ],
   "source": [
    "#values from NS branch\n",
    "#1x + 1y + 7.906z = 13.2158734\n",
    "#0x + 0y + 7.169z = 12.6752781\n",
    "#0x + 2y + 8.545z = 15.1975901\n",
    "\n",
    "A = np.array([[1,1,7.906],[0,0,7.169],[0,2,8.545]])\n",
    "print(A)\n",
    "b = np.array([13.2158734,12.6752781,15.1975901])\n",
    "print(b)\n",
    "results = np.linalg.solve(A,b)\n",
    "print(results)"
   ]
  },
  {
   "cell_type": "code",
   "execution_count": 17,
   "id": "659dee09",
   "metadata": {},
   "outputs": [
    {
     "data": {
      "text/plain": [
       "11.649078041780001"
      ]
     },
     "execution_count": 17,
     "metadata": {},
     "output_type": "execute_result"
    }
   ],
   "source": [
    "-0.80719602*0 + 0.04472535*2 + 1.76806781*6.538"
   ]
  },
  {
   "cell_type": "code",
   "execution_count": 18,
   "id": "02c3ddd5",
   "metadata": {},
   "outputs": [],
   "source": [
    "#here i tested the results of solving the linear system of equations for 3 sets of values from the NS branch. \n",
    "#however, i discovered that the coefficients are not independant and hence do not allow for calculation of missing values.\n"
   ]
  },
  {
   "cell_type": "code",
   "execution_count": null,
   "id": "35155cd7",
   "metadata": {},
   "outputs": [],
   "source": []
  }
 ],
 "metadata": {
  "kernelspec": {
   "display_name": "Python 3 (ipykernel)",
   "language": "python",
   "name": "python3"
  },
  "language_info": {
   "codemirror_mode": {
    "name": "ipython",
    "version": 3
   },
   "file_extension": ".py",
   "mimetype": "text/x-python",
   "name": "python",
   "nbconvert_exporter": "python",
   "pygments_lexer": "ipython3",
   "version": "3.9.7"
  }
 },
 "nbformat": 4,
 "nbformat_minor": 5
}
