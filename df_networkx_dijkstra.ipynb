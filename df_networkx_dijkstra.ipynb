{
 "cells": [
  {
   "cell_type": "code",
   "execution_count": 228,
   "id": "7dab9de2",
   "metadata": {},
   "outputs": [],
   "source": [
    "#import the necessary packages\n",
    "import pandas as pd\n",
    "import numpy as np\n",
    "import networkx as nx\n",
    "import matplotlib.pyplot as plt"
   ]
  },
  {
   "cell_type": "code",
   "execution_count": 229,
   "id": "a69c2b5e",
   "metadata": {},
   "outputs": [],
   "source": [
    "#creating the dataframe from the data csv file\n",
    "df = pd.read_csv(\"/Users/marcusong/Downloads/archive/edges.csv\")"
   ]
  },
  {
   "cell_type": "code",
   "execution_count": 230,
   "id": "0c93228a",
   "metadata": {},
   "outputs": [
    {
     "name": "stdout",
     "output_type": "stream",
     "text": [
      "   Unnamed: 0          u          v  distance(m)  street type  speed(km/h)\n",
      "0           0  711327755  711332946         58.0            1         15.0\n",
      "1           2  711327755   55725841         15.0            2         20.0\n",
      "2           3  711327755  711327760        165.0            1         15.0\n",
      "3           4  711327756  703557073          4.0            0         10.0\n",
      "4           5  711327756  711332946          8.0            1         15.0\n"
     ]
    }
   ],
   "source": [
    "print(df.head())"
   ]
  },
  {
   "cell_type": "code",
   "execution_count": 269,
   "id": "201bb9a3",
   "metadata": {},
   "outputs": [],
   "source": [
    "#creating the graph from the dataframe\n",
    "g_data = nx.from_pandas_edgelist(df, source='u', target='v', edge_attr=None, create_using=None, edge_key=None)"
   ]
  },
  {
   "cell_type": "code",
   "execution_count": 270,
   "id": "cca5fd89",
   "metadata": {},
   "outputs": [],
   "source": [
    "def dijkstra(graph,start,goal):\n",
    "    shortest_distance = {} #records the cost to reach the node\n",
    "    track_predecessor = {} #keeps track of the path that has led us to this node\n",
    "    unseenNodes = graph #to iterate through the entire graph\n",
    "    infinity = 999999999999999999999999\n",
    "    track_path = [] #traces the journey back to the source node\n",
    "    \n",
    "    for node in unseenNodes:\n",
    "        shortest_distance[node] = infinity\n",
    "    shortest_distance[start] = 0\n",
    "    \n",
    "    while unseenNodes:\n",
    "        min_distance_node = None\n",
    "        \n",
    "        for node in unseenNodes:\n",
    "            if min_distance_node == None:\n",
    "                min_distance_node = node\n",
    "            elif shortest_distance[node] < shortest_distance[min_distance_node]:\n",
    "                min_distance_node = node\n",
    "        \n",
    "        path_options = graph[min_distance_node].items()\n",
    "        \n",
    "        \n",
    "        for child_node, weight in path_options:\n",
    "            for value, weight2 in weight:\n",
    "            \n",
    "                if shortest_distance[min_distance_node] + weight2 < shortest_distance[child_node]:\n",
    "                    shortest_distance[child_node] = weight2 + shortest_distance[min_distance_node]\n",
    "                    track_predecessor[child_node] = min_distance_node\n",
    "        \n",
    "        unseenNodes = unseenNodes.remove_node(min_distance_node)\n",
    "    \n",
    "    currentNode = goal\n",
    "    \n",
    "    while currentNode != start:\n",
    "        try:\n",
    "            track_path.insert(0, currentNode)\n",
    "            currentNode = track_predecessor[currentNode]\n",
    "        \n",
    "        except KeyError:\n",
    "            print(\"Path is not reachable\")\n",
    "            break\n",
    "        \n",
    "    track_path.insert(0,start)\n",
    "    \n",
    "    if shortest_distance[goal] != infinity:\n",
    "        print(\"Shortest distance is \" + str(shortest_distance[goal]))\n",
    "        print(\"Optimal path is \" + str(track_path))"
   ]
  },
  {
   "cell_type": "code",
   "execution_count": 271,
   "id": "70e258b9",
   "metadata": {},
   "outputs": [
    {
     "name": "stdout",
     "output_type": "stream",
     "text": [
      "Shortest distance is 0\n",
      "Optimal path is [711327755]\n"
     ]
    }
   ],
   "source": [
    "dijkstra(g_data,711327755,711327755)"
   ]
  },
  {
   "cell_type": "code",
   "execution_count": 234,
   "id": "e5df532e",
   "metadata": {},
   "outputs": [
    {
     "name": "stdout",
     "output_type": "stream",
     "text": [
      "Path is not reachable\n"
     ]
    }
   ],
   "source": [
    "dijkstra(g_data,1889485053,3840131755)"
   ]
  },
  {
   "cell_type": "code",
   "execution_count": null,
   "id": "b1a46991",
   "metadata": {},
   "outputs": [],
   "source": []
  },
  {
   "cell_type": "code",
   "execution_count": null,
   "id": "8d71313d",
   "metadata": {},
   "outputs": [],
   "source": []
  },
  {
   "cell_type": "code",
   "execution_count": null,
   "id": "0ef855fb",
   "metadata": {},
   "outputs": [],
   "source": []
  },
  {
   "cell_type": "code",
   "execution_count": null,
   "id": "64658da8",
   "metadata": {},
   "outputs": [],
   "source": []
  },
  {
   "cell_type": "code",
   "execution_count": null,
   "id": "86bc274a",
   "metadata": {},
   "outputs": [],
   "source": []
  }
 ],
 "metadata": {
  "kernelspec": {
   "display_name": "Python 3 (ipykernel)",
   "language": "python",
   "name": "python3"
  },
  "language_info": {
   "codemirror_mode": {
    "name": "ipython",
    "version": 3
   },
   "file_extension": ".py",
   "mimetype": "text/x-python",
   "name": "python",
   "nbconvert_exporter": "python",
   "pygments_lexer": "ipython3",
   "version": "3.9.7"
  }
 },
 "nbformat": 4,
 "nbformat_minor": 5
}
